{
 "cells": [
  {
   "cell_type": "markdown",
   "metadata": {
    "tags": [],
    "toc": true
   },
   "source": [
    "<h1>Table of Contents<span class=\"tocSkip\"></span></h1>\n",
    "<div class=\"toc\"><ul class=\"toc-item\"><li><span><a href=\"#Directions-for-homework-submission\" data-toc-modified-id=\"Directions-for-homework-submission-1\"><span class=\"toc-item-num\">1&nbsp;&nbsp;</span>Directions for homework submission</a></span></li><li><span><a href=\"#Mid-term-evaluation-form-(5-pt)\" data-toc-modified-id=\"Mid-term-evaluation-form-(5-pt)-2\"><span class=\"toc-item-num\">2&nbsp;&nbsp;</span>Mid-term evaluation form (5 pt)</a></span></li><li><span><a href=\"#Order-of-magnitude-neuroscience:-The-information-rate-of-human-behaviors-(20-pt)\" data-toc-modified-id=\"Order-of-magnitude-neuroscience:-The-information-rate-of-human-behaviors-(20-pt)-3\"><span class=\"toc-item-num\">3&nbsp;&nbsp;</span>Order of magnitude neuroscience: The information rate of human behaviors (20 pt)</a></span></li><li><span><a href=\"#The-entropy-of-a-discrete-source-(20-pt)\" data-toc-modified-id=\"The-entropy-of-a-discrete-source-(20-pt)-4\"><span class=\"toc-item-num\">4&nbsp;&nbsp;</span>The entropy of a discrete source (20 pt)</a></span></li><li><span><a href=\"#Diagnostic-testing-(25-pt)\" data-toc-modified-id=\"Diagnostic-testing-(25-pt)-5\"><span class=\"toc-item-num\">5&nbsp;&nbsp;</span>Diagnostic testing (25 pt)</a></span></li><li><span><a href=\"#Limitation-of-information-gain-(30-pt)\" data-toc-modified-id=\"Limitation-of-information-gain-(30-pt)-6\"><span class=\"toc-item-num\">6&nbsp;&nbsp;</span>Limitation of information gain (30 pt)</a></span></li></ul></div>"
   ]
  },
  {
   "cell_type": "markdown",
   "metadata": {
    "id": "jhMvovM54hG6"
   },
   "source": [
    "# Directions for homework submission\n",
    "\n",
    "Submit each of your homework to canvas as the pdf output of the jupyter notebook, and the jupyter notebook (.ipynb). Name your files starting in the format of \"Last_name_First_name_File_name\" separated by underscores. \n",
    "\n",
    "For example, Jieyu submits two files for her homework this week: \n",
    "1. Zheng_Jieyu_HW1.pdf (the pdf output of the jupyter notebook)\n",
    "    \n",
    "    If you have problems rendering your notebook into pdf, you can open your notebook in a browser and print -> save as pdf. \n",
    "\n",
    "2. Zheng_Jieyu_HW1.ipynb\n",
    "\n",
    "**Please make sure your notebook can be run without errors within the cns187 virtual environment.** Any file that fails to be executed on TA's end will be considered as late submissions. \n",
    "\n",
    "**Caltech Honor code:** Searching for the solutions online is strictly prohibited. You should refer to the textbooks and lecture slides. If you are citing any external sources online, please include a list of references. \n",
    "\n",
    "**Collaboration on homework assignments is encouraged.** However, **you cannot show each other the numerical answers or codes**. Please note at the beginning of each answer whom you have discussed the problems with (including TAs). \n",
    "\n",
    "**All the mathematics should be typed in Latex format.** You may work on a piece of paper and then type it into the notebook. Here is a useful [cheat sheet](http://users.dickinson.edu/~richesod/latex/latexcheatsheet.pdf). Please do not submit pictures of handwritten maths. \n",
    "\n",
    "**For the schematic and drawings to be submitted,** please display the images in markdown cells in your homework amd make sure they show up in your pdf rendering. \n",
    "\n",
    "**Please make sure that all your plots include a title and axis labels with units.** **One point will be deducted for each missing element.**\n",
    "\n",
    "------------"
   ]
  },
  {
   "cell_type": "code",
   "execution_count": 1,
   "metadata": {
    "id": "vBrC1uzvz5h8"
   },
   "outputs": [],
   "source": [
    "import numpy as np\n",
    "import matplotlib.pyplot as plt"
   ]
  },
  {
   "cell_type": "markdown",
   "metadata": {},
   "source": [
    "# Mid-term evaluation form (5 pt)\n",
    "Please complete the [mid-term evalutation form](https://forms.gle/dd3HnM8o78jZd76J6). \n",
    "\n",
    "Bonus points (5 pt): Leave a few comments for the optional questions!\n",
    "\n",
    "$$\\mathbb{Done}$$"
   ]
  },
  {
   "cell_type": "markdown",
   "metadata": {},
   "source": [
    "# Order of magnitude neuroscience: The information rate of human behaviors (20 pt)\n",
    "\n",
    "Calculate the information rate of the following three behaviors based on the given references: \n",
    "\n",
    "1. [World record in Speedcard (memorization)](https://en.wikipedia.org/wiki/World_Memory_Championships#Records)\n",
    "2. [World record in solving Rubik's cube](https://www.youtube.com/watch?v=3UTQXc-nXOM)\n",
    "3. [Action per minute of a professional e-athlete](https://en.wikipedia.org/wiki/Actions_per_minute)\n",
    "\n",
    "Hint: Recall that the information is the difference between two entropies. What is the uncertainty about the person's actions before the behavioral task? And how much is that reduced by observing the behavior? List all the other assumptions that you have made for each case, and be sure to include additional references should you need them. \n",
    "\n",
    "What is common across these numbers? "
   ]
  },
  {
   "cell_type": "markdown",
   "metadata": {},
   "source": [
    "For this problem let $\\mathit{IR}:= \\text{ information rate}$\n",
    "\n",
    "1. To calculate entropy we consider the total number of possible card permutations from which the single shuffle is chosen for a given speedcard game, and this gives: $$H(x) = \\log_{2}\\left(52!\\right) = 225.58\\text{ bits}$$ Additionaly the world record is $12.74 \\text{ s}$, so we have: $$\\mathit{IR} = \\frac{225.58\\text{ bits}}{12.74\\text{ s}}$$ \n",
    "\n",
    "$$\\mathit{IR} = 17.7064\\ \\frac{\\text{bits}}{\\text{s}}$$\n",
    "\n",
    "2. To calculate entropy we consider the total number of permutations that exist for a Rubik's cube, and this gives: $$\\\\$$$$H(x) = \\log_{2}\\left(43,252,003,274,489,856,000\\right) = 65.23\\text{ bits} \\\\$$ Additionally the world record is $15.5 \\text{ s}$, so we have: $$\\mathit{IR} = \\frac{65.23\\text{ bits}}{15.5\\text{ s}} \\\\ \\mathit{IR} = 4.20839\\ \\frac{\\text{bits}}{\\text{s}}$$ This is operating under the assumption that a person actually considers all permutations while taking the time to solve a Rubik's cube. In reality, solving Rubik's cubes typically relies on algorithms more so as opposed to an actual process of storing the permutations as bits in the brain. $$ \\\\ $$\n",
    "\n",
    "\n",
    "3. We will assume that any given action takes $N \\text{ bits}$, although in reality, the different actions may use different amounts of information capacity. The noted record for APM is $818 \\frac{\\text{ actions}}{\\text{ min}}$. We can convert this to $\\frac{\\text{ bits}}{\\text{ s}}$: $$\\frac{818\\text{ actions}}{1\\text{ min}}\\times\\frac{1 \\text{ min}}{60\\text{ s}}\\times\\frac{N \\text{ bits}}{1 \\text{ action}} = N \\cdot \\frac{818 \\text{ bits}}{60 \\text{ s}}$$ So our information rate is as so: $$N\\cdot13.6333\\ \\frac{\\text{bits}}{\\text{s}}$$\n",
    "\n",
    "The commonality among all these rates are that they are on the order of 10 bits/sec which is around the calculated information throughput of humans as shown in lecture."
   ]
  },
  {
   "cell_type": "markdown",
   "metadata": {},
   "source": [
    "# The entropy of a discrete source (20 pt)\n",
    "Say an information source uses symbols $i=1,\\dots,n$ with probabilities $p_1,\\dots,p_n$. Show that the entropy of the source is largest if all the symbols occur with equal probability, i.e. $p_i=1/n$ for all $n$. \n"
   ]
  },
  {
   "cell_type": "markdown",
   "metadata": {},
   "source": [
    "We make use of Jensen's inequality which states that for any concave down function $f$ and discrete random variable $\\mathbf{X}$: $$f\\left(\\mathbf{E}\\left[\\mathbf{X}\\right]\\right) \\ge \\mathbf{E}\\left[f\\left(\\mathbf{X}\\right)\\right]$$ \n",
    "\n",
    "In this case we consider $f\\left(\\mathbf{X}\\right) = \\log_{2}\\left(\\mathbf{X}\\right)$.\n",
    "\n",
    "Let $\\mathbf{S}:= \\text{ R.V. representing the source that takes on } N \\text{ possible values with probabilities } p_1,p_2,\\dots,p_n$\n",
    "\n",
    "Let $p\\left(\\mathbf{S}\\right):= p.m.f.\\text{ of } \\mathbf{S}$.\n",
    "\n",
    "$$H(x) = -\\sum_{j=1}^{N}p_j\\cdot\\log_{2}\\left(p_j\\right) \\\\ $$\n",
    "$$H(x) = -\\mathbf{E}\\left[\\log_{2}\\left(p\\left(\\mathbf{S}\\right)\\right)\\right] \\\\ $$\n",
    "$$H(x) = \\mathbf{E}\\left[\\log_{2}\\left(\\frac{1}{p\\left(\\mathbf{S}\\right)}\\right)\\right] \\le \\log_{2}\\left(\\mathbf{E}\\left[\\frac{1}{p\\left(\\mathbf{S}\\right)}\\right]\\right) \\\\ $$\n",
    "$$H(x) \\le \\log_{2}\\left(\\sum_{j=1}^{N}p_j\\cdot\\frac{1}{p_j}\\right) = \\log_{2}\\left(\\sum_{j=1}^{N}1\\right) \\\\ $$\n",
    "$$H(x) \\le \\log_{2}\\left(N\\right)$$\n",
    "\n",
    "This shows the maximum entropy is achieved when $p_i = \\frac{1}{N} \\text{ for all } N$ since the entropy for such a case is exactly $\\log_{2}\\left(N\\right)$"
   ]
  },
  {
   "cell_type": "markdown",
   "metadata": {},
   "source": [
    "# Diagnostic testing (25 pt)\n",
    "Suppose a rare disease afflicts individuals in a population with relative frequency 0.001. You have available a diagnostic test for this disease. Unfortunately, the test is not perfect, but occasionally produces false positive results or false negative results, and both happen to occur with a probability of 0.001. You perform this test on a randomly chosen subject and obtain a positive result.\n",
    "\n",
    "a) What was your uncertainty (in bits) about the subject’s disease status before performing the test?"
   ]
  },
  {
   "cell_type": "markdown",
   "metadata": {},
   "source": [
    "$$\\underline{\\text{x: Disease status}} \\\\ $$\n",
    "$$x_1 = \\text{event that a person has the disease} \\\\ $$\n",
    "$$x_2 = \\text{event that a person doesn't have the disease} \\\\ $$\n",
    "$$\\mathbf{P}\\left(x_1\\right) = 0.001\\ \\ \\ \\mathbf{P}\\left(x_2\\right) = 0.999 \\\\ $$\n",
    "$$H(x) = -\\mathbf{P}\\left(x_1\\right)\\cdot\\log_{2}\\mathbf{P}\\left(x_1\\right) -\\mathbf{P}\\left(x_2\\right)\\cdot\\log_{2}\\mathbf{P}\\left(x_2\\right) \\\\ $$\n",
    "$$H(x) = -0.001\\cdot\\log_{2}\\left(0.001\\right) - 0.999\\cdot\\log_{2}\\left(0.999\\right) \\approx 0.01140775774 \\\\ $$\n",
    "$$H(x) \\approx 0.01141 \\text{ bits} \\\\ $$"
   ]
  },
  {
   "cell_type": "markdown",
   "metadata": {},
   "source": [
    "b) What is the uncertainty after seeing the test result?"
   ]
  },
  {
   "cell_type": "markdown",
   "metadata": {},
   "source": [
    "$$\\underline{\\text{y: Patient has disease}} \\\\ $$\n",
    "$$\\mathbf{P}\\left(y\\right) = \\mathbf{P}\\left(y \\cap x_1\\right) + \\mathbf{P}\\left(y \\cap x_2\\right) = \\mathbf{P}\\left(x_1\\right)\\cdot\\mathbf{P}\\left(y|x_1\\right) + \\mathbf{P}\\left(x_2\\right)\\cdot\\mathbf{P}\\left(y|x_2\\right) \\\\ $$\n",
    "$$\\mathbf{P}\\left(y\\right) = 2\\cdot\\left(0.001\\cdot0.999\\right) = 0.001998 \\\\ $$\n",
    "$$\\mathbf{P}\\left(y|x_1\\right) = 0.999 \\\\ $$\n",
    "$$\\mathbf{P}\\left(y|x_2\\right) = 0.001 \\\\ $$\n",
    "$$\\mathbf{P}\\left(x_1|y\\right) = \\frac{\\mathbf{P}\\left(y|x_1\\right)\\cdot\\mathbf{P}\\left(x_1\\right)}{\\mathbf{P}\\left(y\\right)} = 0.5\\\\ $$\n",
    "$$\\mathbf{P}\\left(x_2|y\\right) = \\frac{\\mathbf{P}\\left(y|x_2\\right)\\cdot\\mathbf{P}\\left(x_2\\right)}{\\mathbf{P}\\left(y\\right)} = 0.5\\\\ $$\n",
    "$$H(x|y) = -0.5\\cdot\\log_{2}\\left(0.5\\right) - 0.5\\cdot\\log_{2}\\left(0.5\\right) = 1 \\text{ bit}\\\\ $$"
   ]
  },
  {
   "cell_type": "markdown",
   "metadata": {},
   "source": [
    "c) How much information have you gained from this specific test outcome?"
   ]
  },
  {
   "cell_type": "markdown",
   "metadata": {},
   "source": [
    "$$I\\left(x;y\\right) = H(x) - H(x|y) \\approx -0.98859 \\text{ bits}$$"
   ]
  },
  {
   "cell_type": "markdown",
   "metadata": {},
   "source": [
    "d) How do you reconcile this with Prof Meister's claim that the mutual information is always positive?"
   ]
  },
  {
   "cell_type": "markdown",
   "metadata": {},
   "source": [
    "The negative value for mutual information is due to the test result providing misinformation about the patient's disease status. This is more than likely a result of the fact that the probability of having the disease is so low that it is hard to gain reasonable information on disease status with the given rates of false positives and false negatives. The mutual information,in theory, is always positive given that it is a measure of the reduction in uncertainty. However, it seems that in practice, due to limitations in the accuracy of the measurement/in the model used to estimate the probabilities, the resultant mutual information can be negative, as seen above."
   ]
  },
  {
   "cell_type": "markdown",
   "metadata": {},
   "source": [
    "e) What should you do next? [3 sentences]\n",
    "\n",
    "For some health policy implications of this, see e.g. Hoffrage, U., S. Lindsey, R. Hertwig, and G. Gigerenzer. 2000. Medicine. Communicating statistical information. Science. 290:2261-2. DOI: 10.1126/science.290.5500.2261"
   ]
  },
  {
   "cell_type": "markdown",
   "metadata": {},
   "source": [
    "Given that the positive test result provided negative information or misinformation about the subject's disease status, further evaluation would be required to confirm the presence of the disease. Other methods should be explored to avoid misdiagonosing the patient. Oftentimes with tests such as this, falst positives occur, so certainty should be increased before reliably diagonosing. In this case, the calculation shows certainty to have decreased."
   ]
  },
  {
   "cell_type": "markdown",
   "metadata": {},
   "source": [
    "# Limitation of information gain (30 pt)\n",
    "From the lectures, we learned that single neurons can encode subtle changes of sensory inputs with surprising fidelity. They sometime overperform the perceptual sensitivity of trained psychophysical observers. \n",
    "\n",
    "This might be counter-intuitive. Pooling responses across neurons should have averaged out noise in the activity of single cells and lead to substantially improved psychophysical performance than single cells.\n",
    "\n",
    "a) Based on Population Code Lec 2, what is one possible reason that pooling responses from the neuron ensemble does not improve overall psychophysical performance?"
   ]
  },
  {
   "cell_type": "markdown",
   "metadata": {},
   "source": [
    "This could be a result of noise correlations between the neurons being tracked that causes limitations to be imposed on information gain from population decoding."
   ]
  },
  {
   "cell_type": "markdown",
   "metadata": {},
   "source": [
    "b) Assuming we have a population of $m$ artificial cells with simplified signal response with identical distribution, let's examine how the correlation within the population will affect the overall signal-to-noise ratio (SNR).\n",
    "\n",
    "In the present context, each signal distribution represents the responses of a single neuron. We will plot the signal-to-noise ratio of M summed signals, $X_1 ... X_m$.\n",
    "\n",
    "We define the sum of the $M$ signals as:\n",
    "\n",
    "$$Y = \\sum_i^m X_i $$\n",
    "\n",
    "we define the signal as the expectation of $Y$, and the noise as the standard deviation of $Y$.\n",
    "\n",
    "$$\n",
    "S = {\\rm{E}}[Y] \\\\\n",
    "N = \\sqrt {{\\rm{Var}}[Y]}\n",
    "$$\n",
    "\n",
    "Please derive an expression for $S$, assuming that $X_i$ has the same mean $\\langle X \\rangle$. Please also derive an expression for $N$, assuming that the $X_i$ have pairwise correlation coefficient of $r$, which means that:\n",
    "\n",
    "$$\n",
    "{\\rm{Var}}[X_i]=\\left<X_i^2\\right>-\\left<X_i\\right>^2=\\sigma^2 \\\\\n",
    "{\\rm{Cov}}[X_i,X_j]=\\left<X_iX_j\\right>-\\left<X_i\\right>\\left<X_j\\right>=r \\cdot \\sigma^2\n",
    "$$\n",
    "\n"
   ]
  },
  {
   "cell_type": "markdown",
   "metadata": {},
   "source": [
    "$$S = \\mathbf{E}\\left[\\mathbf{Y}\\right] = \\sum_{i=0}^{M}\\mathbf{E}\\left[\\mathbf{X}_i\\right] = \\sum_{i=0}^{M}\\left<\\mathbf{X}\\right> = M\\cdot\\left<\\mathbf{X}\\right> \\\\ $$\n",
    "$$N = \\sqrt{M\\cdot\\sigma^2 + M\\cdot\\left(M - 1\\right)\\cdot r\\cdot \\sigma^2}$$"
   ]
  },
  {
   "cell_type": "markdown",
   "metadata": {},
   "source": [
    "c) With your derivation of $S$ and $N$, please calculate the signal to noise ratio $S/N$, and use this equation to replicate the plot on slide 8 of the second population code lecture, with x axis being the number of neurons (M) and y axis being the signal-to-noise ratio. Make sure to plot for a range of r values, going from $r=0$ to $r=0.5$. Also, be careful of the type of scale used for x and y axis."
   ]
  },
  {
   "cell_type": "code",
   "execution_count": 2,
   "metadata": {},
   "outputs": [
    {
     "data": {
      "image/png": "[encoded data removed]",
      "text/plain": [
       "<Figure size 640x480 with 1 Axes>"
      ]
     },
     "metadata": {},
     "output_type": "display_data"
    }
   ],
   "source": [
    "mean = 10\n",
    "stddev = 5\n",
    "M = np.linspace(1, 10000, 10000)\n",
    "S = M * mean\n",
    "for r in [0, 0.1, 0.2, 0.3, 0.4, 0.5]:\n",
    "    N = np.sqrt(M * (stddev ** 2) + M * (M - 1) * r * (stddev ** 2))\n",
    "    plt.plot(M, S/N)\n",
    "plt.xscale(\"log\")\n",
    "plt.yscale(\"log\")\n",
    "plt.legend([\"r = 0\", \"r = 0.1\", \"r = 0.2\", \"r = 0.3\", \"r = 0.4\", \"r = 0.5\"],title=\"r values\")\n",
    "plt.xlabel(\"M number of neurons(logscale)\")\n",
    "plt.ylabel(\"SNR value(logscale)\")\n",
    "plt.title(\"Limits on information gain for different noise correlation values\")\n",
    "plt.show()"
   ]
  },
  {
   "cell_type": "markdown",
   "metadata": {},
   "source": [
    "d) Prove either analytically or via simulation that when the number of neurons (M) is large enough, the best signal-to-noise ratio one can get is limited by $\\frac{1}{\\sqrt{r}}$."
   ]
  },
  {
   "cell_type": "markdown",
   "metadata": {},
   "source": [
    "$$N = \\sqrt{M\\cdot\\sigma^2 + M\\cdot\\left(M - 1\\right)\\cdot r\\cdot \\sigma^2} \\\\ $$\n",
    "$$N = \\sqrt{\\left(\\left(1-r\\right)\\cdot M + r\\cdot M^2\\right)\\cdot\\sigma^2} \\\\ $$\n",
    "$$\\frac{S}{N} = \\sqrt{\\frac{M^2}{\\left(\\left(1-r\\right)\\cdot M + r\\cdot M^2\\right)}\\cdot\\frac{\\left<\\mathbf{X}\\right>^2}{\\sigma^2}} \\\\ $$\n",
    "$$\\frac{S}{N} = \\sqrt{\\frac{1}{\\left(\\left(1-r\\right)\\cdot \\frac{1}{M} + r\\cdot M\\right)}\\cdot\\frac{\\left<\\mathbf{X}\\right>^2}{\\sigma^2}} \\\\ $$\n",
    "\n",
    "For large M: $$\\frac{S}{N} = \\sqrt{\\frac{1}{r}\\cdot\\frac{\\left<\\mathbf{X}\\right>^2}{\\sigma^2}}$$\n",
    "\n",
    "This shows that the best signal to noise ratio which is represented by $\\displaystyle \\frac{\\left<\\mathbf{X}\\right>}{\\sigma}$, gotten from the original equation for S/N by setting r to 0, is limited by the value $\\displaystyle \\frac{1}{\\sqrt{r}}$ when $r > 0$."
   ]
  },
  {
   "cell_type": "code",
   "execution_count": null,
   "metadata": {},
   "outputs": [],
   "source": []
  }
 ],
 "metadata": {
  "colab": {
   "collapsed_sections": [],
   "name": "HW1_220329_merged.ipynb",
   "provenance": [],
   "toc_visible": true
  },
  "kernelspec": {
   "display_name": "Python 3 (ipykernel)",
   "language": "python",
   "name": "python3"
  },
  "language_info": {
   "codemirror_mode": {
    "name": "ipython",
    "version": 3
   },
   "file_extension": ".py",
   "mimetype": "text/x-python",
   "name": "python",
   "nbconvert_exporter": "python",
   "pygments_lexer": "ipython3",
   "version": "3.7.16"
  },
  "toc": {
   "base_numbering": 1,
   "nav_menu": {},
   "number_sections": true,
   "sideBar": true,
   "skip_h1_title": false,
   "title_cell": "Table of Contents",
   "title_sidebar": "Contents",
   "toc_cell": true,
   "toc_position": {
    "height": "calc(100% - 180px)",
    "left": "10px",
    "top": "150px",
    "width": "349px"
   },
   "toc_section_display": true,
   "toc_window_display": true
  },
  "toc-autonumbering": false,
  "toc-showmarkdowntxt": false,
  "toc-showtags": false
 },
 "nbformat": 4,
 "nbformat_minor": 4
}
